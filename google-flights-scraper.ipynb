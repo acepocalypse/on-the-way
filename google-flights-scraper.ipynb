{
 "cells": [
  {
   "cell_type": "code",
   "execution_count": 21,
   "metadata": {},
   "outputs": [],
   "source": [
    "import selenium\n",
    "from selenium.webdriver.common.by import By\n",
    "from bs4 import BeautifulSoup\n",
    "import requests"
   ]
  },
  {
   "cell_type": "code",
   "execution_count": 28,
   "metadata": {},
   "outputs": [],
   "source": [
    "def create_google_flights_url(origin, destination, start_date, end_date=None, seats=1, airline=None):\n",
    "#     \"\"\"\n",
    "#     Generate a Google Flights URL with the provided parameters.\n",
    "\n",
    "#     :param origin: Departure airport code (e.g., \"HNL\").\n",
    "#     :param destination: Arrival airport code (e.g., \"SFO\").\n",
    "#     :param start_date: Start date of the trip in YYYY-MM-DD format.\n",
    "#     :param end_date: End date of the trip in YYYY-MM-DD format.\n",
    "#     :param seats: Number of seats (default is 1).\n",
    "#     :param airline: Preferred airline (optional, default is None).\n",
    "#     :return: A URL string for Google Flights.\n",
    "#     \"\"\"\n",
    "    if end_date is None:\n",
    "        query = f\"Flights to {destination} from {origin} on {start_date} {seats} seat{'s' if seats > 1 else ''}\"\n",
    "    elif end_date:\n",
    "        query = f\"Flights to {destination} from {origin} on {start_date} through {end_date} {seats} seat{'s' if seats > 1 else ''}\"\n",
    "    if airline:\n",
    "        query += f\" on {airline}\"\n",
    "    \n",
    "    # Format the query into the URL\n",
    "    base_url = \"https://www.google.com/travel/flights?q=\"\n",
    "    query = query.replace(\" \", \"%20\")  # URL encode spaces as %20\n",
    "    return f\"{base_url}{query}\"\n",
    "\n",
    "def gfscrape(origin, destination, start_date, end_date=None):\n",
    "#     # Scrape the Google Flight website for the cheapest flight\n",
    "#     # from the given departure airport to the given arrival airport\n",
    "#     # on the given date.\n",
    "#     # Returns a tuple of the cheapest flight price and the URL\n",
    "#     # of the flight.\n",
    "#     # If no flight is found, returns None.\n",
    "#     # The date should be in the format \"YYYY-MM-DD\".\n",
    "#     # The airport codes should be in the format \"XXX\".\n",
    "#     # The airport codes can be found at\n",
    "#     # https://en.wikipedia.org/wiki/List_of_airports_by_IATA_code:_A\n",
    "\n",
    "#     # Get the URL of the Google Flight search results\n",
    "    url = create_google_flights_url(origin, destination, start_date, end_date)\n",
    "\n",
    "#     # Scrape the Google\n",
    "#     # Open the Google Flight search results\n",
    "#     driver = selenium.webdriver.Chrome()\n",
    "#     driver.get(url)\n",
    "\n",
    "#     # Get the cheapest flight price\n",
    "#     ul = driver.find_element(By.XPATH, \"//ul[@class='Rk10dc']\")\n",
    "#     if ul:\n",
    "#         print(ul.text)\n",
    "    soup = BeautifulSoup(requests.get(url).content, 'html.parser')\n",
    "\n",
    "    topflights = soup.find('ul', class_='Rk10dc')\n",
    "    if topflights:\n",
    "        flight_text = topflights.text\n",
    "        # Split text at points that likely indicate new entries\n",
    "        flight_entries = [entry.strip() for entry in flight_text.split('$') if entry.strip()]\n",
    "        for entry in flight_entries:\n",
    "            print(entry + '\\n')\n",
    "    #####TRY BEATIFUL SOUP\n",
    "\n",
    "\n",
    "\n",
    "\n"
   ]
  },
  {
   "cell_type": "code",
   "execution_count": 30,
   "metadata": {},
   "outputs": [
    {
     "name": "stdout",
     "output_type": "stream",
     "text": [
      "7:00 AM7:00 AM on Fri, Mar 21 – 6:03 PM6:03 PM on Fri, Mar 21Spirit8 hr 3 minLASHarry Reid International Airport–INDIndianapolis International Airport1 stop55 min EWRNewark Liberty International Airport310 kg CO2e+17% emissions\n",
      "\n",
      "166round tripDepartureFri, Mar 21310 kg CO2e+17% emissionsSelect flight\n",
      "\n",
      "166round trip7:00 AMLAS6:03 PMIND\n",
      "\n",
      "166round trip1 stop in EWR1 stop8 hr 3 minSpirit310 kg CO2e+17% emissions10:05 PM10:05 PM on Fri, Mar 21 – 4:37 AM+14:37 AM on Sat, Mar 22Spirit3 hr 32 minLASHarry Reid International Airport–INDIndianapolis International AirportNonstop211 kg CO2e-21% emissions0 0 Close dialogAdditional fees for carry-on bagsAdditional fees for checked bagsTo include bags, use the Bags filter\n",
      "\n",
      "197round tripDepartureFri, Mar 21211 kg CO2e-21% emissionsSelect flight0 0 Close dialogAdditional fees for carry-on bagsAdditional fees for checked bagsTo include bags, use the Bags filter\n",
      "\n",
      "197round trip10:05 PMLAS4:37 AM+1IND0 0 Close dialogAdditional fees for carry-on bagsAdditional fees for checked bagsTo include bags, use the Bags filter\n",
      "\n",
      "197round tripNonstopNonstop3 hr 32 minSpirit211 kg CO2e-21% emissions9:04 AM9:04 AM on Fri, Mar 21 – 3:37 PM3:37 PM on Fri, Mar 21Allegiant3 hr 33 minLASHarry Reid International Airport–INDIndianapolis International AirportNonstop189 kg CO2e-29% emissions\n",
      "\n",
      "204round tripDepartureFri, Mar 21189 kg CO2e-29% emissionsSelect flight\n",
      "\n",
      "204round trip9:04 AMLAS3:37 PMIND\n",
      "\n",
      "204round tripNonstopNonstop3 hr 33 minAllegiant189 kg CO2e-29% emissionsAvoids as much CO2e as 4,687 trees absorb in a day6:00 AM6:00 AM on Fri, Mar 21 – 12:30 PM12:30 PM on Fri, Mar 21Southwest3 hr 30 minLASHarry Reid International Airport–INDIndianapolis International AirportNonstop224 kg CO2e-16% emissions\n",
      "\n",
      "355round tripDepartureFri, Mar 21224 kg CO2e-16% emissionsSelect flight\n",
      "\n",
      "355round trip6:00 AMLAS12:30 PMIND\n",
      "\n",
      "355round tripNonstopNonstop3 hr 30 minSouthwest224 kg CO2e-16% emissions\n",
      "\n"
     ]
    }
   ],
   "source": [
    "url = gfscrape(\n",
    "    origin=\"LAS\",\n",
    "    destination=\"IND\",\n",
    "    start_date=\"2025-03-21\"\n",
    ")"
   ]
  }
 ],
 "metadata": {
  "kernelspec": {
   "display_name": "base",
   "language": "python",
   "name": "python3"
  },
  "language_info": {
   "codemirror_mode": {
    "name": "ipython",
    "version": 3
   },
   "file_extension": ".py",
   "mimetype": "text/x-python",
   "name": "python",
   "nbconvert_exporter": "python",
   "pygments_lexer": "ipython3",
   "version": "3.11.11"
  }
 },
 "nbformat": 4,
 "nbformat_minor": 2
}
