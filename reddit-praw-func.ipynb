{
 "cells": [
  {
   "cell_type": "code",
   "execution_count": null,
   "metadata": {},
   "outputs": [],
   "source": [
    "import praw\n",
    "import os\n",
    "from dotenv import load_dotenv\n",
    "\n",
    "load_dotenv(override=True)\n",
    "\n",
    "reddit_client_id = os.getenv(\"REDDIT_CLIENT_ID\")\n",
    "reddit_client_secret = os.getenv(\"REDDIT_CLIENT_SECRET\")\n",
    "user_agent = os.getenv(\"USER_AGENT\")\n",
    "\n",
    "\n",
    "reddit = praw.Reddit(\n",
    "    client_id=reddit_client_id,\n",
    "    client_secret=reddit_client_secret,\n",
    "    user_agent=user_agent,\n",
    ")\n",
    "\n",
    "# Search for posts and limit the results\n",
    "subreddit = reddit.subreddit(\"roadtrip\")\n",
    "search_results = subreddit.search('\"Denver to Las Vegas\" OR \"Las Vegas to Denver\" roadtrip route', limit=5)\n",
    "\n",
    "for post in search_results:\n",
    "    print(f\"Title: {post.title}\")\n",
    "    print(f\"URL: {post.url}\")\n",
    "    print(\"Comments:\")\n",
    "    \n",
    "    # Fetch comments for the post\n",
    "    post.comments.replace_more(limit=0)\n",
    "    for comment in post.comments.list():\n",
    "        print(f\" - {comment.body}\")\n",
    "    \n",
    "    print(\"\\n\" + \"=\"*50 + \"\\n\")"
   ]
  }
 ],
 "metadata": {
  "kernelspec": {
   "display_name": "base",
   "language": "python",
   "name": "python3"
  },
  "language_info": {
   "codemirror_mode": {
    "name": "ipython",
    "version": 3
   },
   "file_extension": ".py",
   "mimetype": "text/x-python",
   "name": "python",
   "nbconvert_exporter": "python",
   "pygments_lexer": "ipython3",
   "version": "3.11.11"
  }
 },
 "nbformat": 4,
 "nbformat_minor": 2
}
