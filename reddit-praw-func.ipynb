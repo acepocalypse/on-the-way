{
 "cells": [
  {
   "cell_type": "code",
   "execution_count": 5,
   "metadata": {},
   "outputs": [
    {
     "name": "stdout",
     "output_type": "stream",
     "text": [
      "Welcome to r/RoadTrip. Read First. \n",
      "r/RoadTrip January Scenic Photo Contest: Share and Vote for the Best Road Trip Shots!\n",
      "Absolutely bonkers adventure my GF and I went on in 2024\n",
      "Moving from Tampa to Spokane WA\n",
      "Seattle to Forks, north or south?\n",
      "Peoria IL to Seattle Washington - I-90 vs. I-80 - traveling by car next week. Need best route\n",
      "Pacific coast trip this summer (Thoughts?)\n",
      "Salt Lake City to Seattle\n",
      "Best road route to Banglore\n",
      "Scotland Highlands Only\n"
     ]
    }
   ],
   "source": [
    "import praw\n",
    "import os\n",
    "from dotenv import load_dotenv\n",
    "\n",
    "load_dotenv(override=True)\n",
    "\n",
    "reddit_client_id = os.getenv(\"REDDIT_CLIENT_ID\")\n",
    "reddit_client_secret = os.getenv(\"REDDIT_CLIENT_SECRET\")\n",
    "user_agent = os.getenv(\"USER_AGENT\")\n",
    "\n",
    "\n",
    "reddit = praw.Reddit(\n",
    "    client_id=reddit_client_id,\n",
    "    client_secret=reddit_client_secret,\n",
    "    user_agent=user_agent,\n",
    ")\n",
    "\n",
    "for submission in reddit.subreddit(\"roadtrip\").hot(limit=10):\n",
    "    print(submission.title)"
   ]
  }
 ],
 "metadata": {
  "kernelspec": {
   "display_name": "base",
   "language": "python",
   "name": "python3"
  },
  "language_info": {
   "codemirror_mode": {
    "name": "ipython",
    "version": 3
   },
   "file_extension": ".py",
   "mimetype": "text/x-python",
   "name": "python",
   "nbconvert_exporter": "python",
   "pygments_lexer": "ipython3",
   "version": "3.11.11"
  }
 },
 "nbformat": 4,
 "nbformat_minor": 2
}
